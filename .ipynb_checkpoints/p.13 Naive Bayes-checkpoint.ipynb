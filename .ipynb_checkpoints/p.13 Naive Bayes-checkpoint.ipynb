{
 "cells": [
  {
   "cell_type": "code",
   "execution_count": 1,
   "metadata": {},
   "outputs": [],
   "source": [
    "import nltk\n",
    "import random # this we will use to shuffle our dataset, coz for now it is higlhy ordered, first all negative, than positive than neutaral.\n",
    "from nltk.corpus import movie_reviews"
   ]
  },
  {
   "cell_type": "code",
   "execution_count": 2,
   "metadata": {},
   "outputs": [],
   "source": [
    "documents = [(list(movie_reviews.words(fileid)), category)\n",
    "            for category in movie_reviews.categories()\n",
    "            for fileid in movie_reviews.fileids(category)]"
   ]
  },
  {
   "cell_type": "code",
   "execution_count": 3,
   "metadata": {},
   "outputs": [],
   "source": [
    "random.shuffle(documents)\n",
    "# print(documents[:100])"
   ]
  },
  {
   "cell_type": "markdown",
   "metadata": {},
   "source": [
    "_what we're going to end up having to do is take all of these words though literally take every word in every review and compile them and then basically we do is we'll take that list of words and we'll find the most popular words  used and then we take of those most popular words which one appear in positive text and which ones negative text and then we simply just search for those words and whichever one it has more negative words or more positive words that's how we classify it_"
   ]
  },
  {
   "cell_type": "code",
   "execution_count": 4,
   "metadata": {},
   "outputs": [],
   "source": [
    "all_words = []\n",
    "for w in movie_reviews.words():\n",
    "    all_words.append(w.lower())"
   ]
  },
  {
   "cell_type": "code",
   "execution_count": 5,
   "metadata": {},
   "outputs": [],
   "source": [
    "all_words = nltk.FreqDist(all_words)"
   ]
  },
  {
   "cell_type": "code",
   "execution_count": 6,
   "metadata": {},
   "outputs": [],
   "source": [
    "word_features = list(all_words.keys())[:3000]"
   ]
  },
  {
   "cell_type": "code",
   "execution_count": 7,
   "metadata": {},
   "outputs": [],
   "source": [
    "def find_features(document):\n",
    "    words = set(document)\n",
    "    features = {}\n",
    "    for w in words:\n",
    "        features[w] = (w in words)\n",
    "        \n",
    "    return features"
   ]
  },
  {
   "cell_type": "code",
   "execution_count": 8,
   "metadata": {},
   "outputs": [
    {
     "name": "stdout",
     "output_type": "stream",
     "text": [
      "{'production': True, 'fed': True, 'clue': True, 'different': True, 'party': True, 'watch': True, 'new': True, '7': True, 'i': True, 'characters': True, 'even': True, 'actually': True, 'although': True, 'over': True, 'whatever': True, 'visions': True, 'movie': True, 'head': True, 'problem': True, 'sagemiller': True, 'off': True, 'makes': True, 'despite': True, 'and': True, 'review': True, 'all': True, 'confusing': True, 'like': True, 'go': True, 'playing': True, 'craziness': True, 'where': True, 'terribly': True, 'do': True, '(': True, 'engaging': True, 'ending': True, 'years': True, 'really': True, 'apparitions': True, 'touches': True, 'on': True, 'again': True, 'blair': True, 'apparently': True, 'personally': True, 'jumbled': True, '4': True, 'film': True, 'figured': True, 'your': True, 'is': True, 'sitting': True, 'too': True, 'crow': True, 'before': True, 'wes': True, '.': True, 'sad': True, 'drink': True, 'little': True, 'took': True, 'did': True, 'see': True, 'more': True, 'been': True, 'strange': True, 'dreams': True, 'okay': True, 'it': True, 'church': True, 'in': True, 'unraveling': True, 'neighborhood': True, 'things': True, 'explained': True, 'feeling': True, 'so': True, '2': True, 'big': True, 'drive': True, 'applaud': True, 'pretty': True, 'video': True, 'snag': True, 'coming': True, 'these': True, 'seems': True, 'concept': True, 'rarely': True, 'character': True, 'give': True, 'audience': True, 'plot': True, 'break': True, 'guys': True, 'hide': True, 'genre': True, 'shelves': True, 'or': True, 'disappearances': True, 'dies': True, 'neat': True, 'start': True, 'back': True, 'couples': True, 'main': True, 'beauty': True, 'of': True, 'generally': True, 'secret': True, 'my': True, 'might': True, '&': True, 'understanding': True, 'memento': True, 'ways': True, ',': True, 'has': True, 'us': True, 'slasher': True, 'looooot': True, 'minutes': True, 'showing': True, 'then': True, 'teen': True, 'kind': True, 'thrilling': True, 'kudos': True, 'echoes': True, 'no': True, 'about': True, 'also': True, 'downshifts': True, 'him': True, 'ever': True, 'world': True, 'running': True, 'who': True, 'they': True, 'doesn': True, 'good': True, 'assuming': True, 'because': True, 'problems': True, 'enter': True, 'came': True, 'types': True, 'mold': True, 'both': True, 't': True, 'fantasy': True, 'exact': True, 'sure': True, 'shows': True, 'one': True, 'feels': True, 'music': True, \"'\": True, 'going': True, 'giving': True, 'attempt': True, 'decided': True, 'most': True, 'here': True, '20': True, 'suits': True, 'a': True, 'seemed': True, 'to': True, 'explanation': True, 've': True, 'runtime': True, 'his': True, 'just': True, 'dead': True, 'overall': True, '8': True, 'bottom': True, 'two': True, 'oh': True, 'nightmares': True, 'you': True, 'only': True, 'salvation': True, 'further': True, 'mess': True, 'entertaining': True, 'decent': True, 'people': True, 'got': True, 'stir': True, 'joblo': True, 'the': True, 'plain': True, 'packaged': True, 'write': True, 'strangeness': True, 'critique': True, 'need': True, 'elm': True, 'entire': True, 'we': True, 'given': True, 'kids': True, 'movies': True, 'correctly': True, 'girlfriend': True, 'but': True, 'entertain': True, 'be': True, 'life': True, 'package': True, 'starts': True, 'after': True, 'biggest': True, 'meantime': True, 'get': True, 'horror': True, 'nightmare': True, 'dig': True, 'bentley': True, 'obviously': True, 'witch': True, 'stick': True, 'flicks': True, 'would': True, 'continues': True, 'folks': True, 'this': True, 'when': True, 'making': True, 'melissa': True, 'well': True, 'excites': True, 'always': True, 'taken': True, 'line': True, 'guess': True, 'point': True, 'part': True, 'very': True, 'way': True, 'cool': True, 'deal': True, ':': True, 'didn': True, 'until': True, 'down': True, 'bit': True, 'up': True, 'which': True, '-': True, 'insight': True, 'from': True, 'does': True, 'themselves': True, 'there': True, '!': True, 'away': True, '3': True, 'somewhere': True, 'highway': True, '10': True, 'look': True, 'weird': True, 'sorta': True, 'not': True, 'tons': True, 'someone': True, 'arrow': True, 'how': True, 'mind': True, 'make': True, 'simply': True, 'final': True, 'half': True, 'her': True, 'have': True, 'actors': True, 'films': True, 'bad': True, 'should': True, 'happen': True, 'with': True, 'me': True, 'he': True, 'offering': True, 'are': True, 'turning': True, 'unravel': True, 'street': True, '9': True, '?': True, 'scenes': True, 'now': True, 'harder': True, '/': True, 'idea': True, 'since': True, 'seem': True, 'as': True, 'every': True, 'into': True, 'mean': True, 'american': True, 'don': True, 'find': True, 'studio': True, 'that': True, 'others': True, 'flick': True, '\"': True, ')': True, 'for': True, 'sense': True, 'hot': True, 'by': True, 'normal': True, 'generation': True, 'out': True, 'want': True, 'redundant': True, 'trying': True, 'its': True, 'know': True, 'same': True, 'completely': True, 'five': True, 'skip': True, 'ago': True, 's': True, 'wrapped': True, 'an': True, 'while': True, 'chopped': True, 'own': True, 'such': True, 'member': True, 'executed': True, 'lazy': True, 'what': True, 'chase': True, 'holds': True, 'edge': True, 'throughout': True, 'presents': True, 'director': True, 'fuck': True, 'lost': True, 'chasing': True, 'still': True, 'accident': True, 'password': True}\n"
     ]
    }
   ],
   "source": [
    "print((find_features(movie_reviews.words('neg/cv000_29416.txt'))))"
   ]
  },
  {
   "cell_type": "code",
   "execution_count": 9,
   "metadata": {},
   "outputs": [],
   "source": [
    "featuresets = [(find_features(rev), category) for (rev, category) in documents]"
   ]
  },
  {
   "cell_type": "code",
   "execution_count": 10,
   "metadata": {},
   "outputs": [],
   "source": [
    "train_set = featuresets[:1900]\n",
    "test_set = featuresets[1900:]"
   ]
  },
  {
   "cell_type": "markdown",
   "metadata": {},
   "source": [
    "### Naive Byes Algorithm\n",
    "posterior = prior occurences * occurences / likelihood"
   ]
  },
  {
   "cell_type": "code",
   "execution_count": 13,
   "metadata": {},
   "outputs": [
    {
     "name": "stdout",
     "output_type": "stream",
     "text": [
      "Naive Bayes algo accuracy:  81.0\n",
      "Most Informative Features\n",
      "             outstanding = True              pos : neg    =     14.1 : 1.0\n",
      "                  avoids = True              pos : neg    =     12.5 : 1.0\n",
      "               stupidity = True              neg : pos    =     12.4 : 1.0\n",
      "                    slip = True              pos : neg    =     11.1 : 1.0\n",
      "               strongest = True              pos : neg    =     11.1 : 1.0\n",
      "                    3000 = True              neg : pos    =     10.9 : 1.0\n",
      "                   sucks = True              neg : pos    =     10.5 : 1.0\n",
      "             fascination = True              pos : neg    =     10.5 : 1.0\n",
      "                  hatred = True              pos : neg    =     10.5 : 1.0\n",
      "                    taxi = True              pos : neg    =     10.5 : 1.0\n",
      "                thematic = True              pos : neg    =     10.5 : 1.0\n",
      "               ludicrous = True              neg : pos    =     10.3 : 1.0\n",
      "               insulting = True              neg : pos    =     10.1 : 1.0\n",
      "                  annual = True              pos : neg    =      9.8 : 1.0\n",
      "              astounding = True              pos : neg    =      9.8 : 1.0\n"
     ]
    }
   ],
   "source": [
    "classifier = nltk.NaiveBayesClassifier.train(train_set)\n",
    "print('Naive Bayes algo accuracy: ', nltk.classify.accuracy(classifier, test_set) * 100)\n",
    "classifier.show_most_informative_features(15)"
   ]
  },
  {
   "cell_type": "code",
   "execution_count": null,
   "metadata": {},
   "outputs": [],
   "source": []
  }
 ],
 "metadata": {
  "kernelspec": {
   "display_name": "Python 3",
   "language": "python",
   "name": "python3"
  },
  "language_info": {
   "codemirror_mode": {
    "name": "ipython",
    "version": 3
   },
   "file_extension": ".py",
   "mimetype": "text/x-python",
   "name": "python",
   "nbconvert_exporter": "python",
   "pygments_lexer": "ipython3",
   "version": "3.6.9"
  }
 },
 "nbformat": 4,
 "nbformat_minor": 4
}
