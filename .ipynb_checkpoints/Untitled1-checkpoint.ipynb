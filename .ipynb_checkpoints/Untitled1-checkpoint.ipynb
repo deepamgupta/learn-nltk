{
 "cells": [
  {
   "cell_type": "code",
   "execution_count": 1,
   "metadata": {},
   "outputs": [],
   "source": [
    "import nltk"
   ]
  },
  {
   "cell_type": "code",
   "execution_count": null,
   "metadata": {},
   "outputs": [],
   "source": [
    "post = '''I need help to cure my depression. I've been depressed since 3 years now. It is causing some panic attacks and sleepless nights now. Since I am a college student, I have no money. My parents are conservative and do not understand depression. Hence I was looking for some free ways to cure depression. If there is a website or an email or anything at all to offer help, please put it down below. Also anybody else who has got over depression without professional help can also share their story. Have a great day guys!'''"
   ]
  }
 ],
 "metadata": {
  "kernelspec": {
   "display_name": "Python 3",
   "language": "python",
   "name": "python3"
  },
  "language_info": {
   "codemirror_mode": {
    "name": "ipython",
    "version": 3
   },
   "file_extension": ".py",
   "mimetype": "text/x-python",
   "name": "python",
   "nbconvert_exporter": "python",
   "pygments_lexer": "ipython3",
   "version": "3.6.9"
  }
 },
 "nbformat": 4,
 "nbformat_minor": 4
}
