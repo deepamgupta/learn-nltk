{
 "cells": [
  {
   "cell_type": "code",
   "execution_count": 1,
   "metadata": {},
   "outputs": [],
   "source": [
    "post = \"\"\"\n",
    "I have depression and get anxiety attacks and cant fucking stop crying. I think I went to a traumatic childhood but I dont know what can be considered normal. Children in India get beat up all the time. Is it okay to get beat up for spelling mistakes? I’m not sure.I have googled the symptoms and they seem to match, but I’m not a doctor. It just sucks. I wish I could be sure that I’m fucked up coz of how my parents treated me. My parents tell me that they’ve sacrificed their lives for me, spent their retirement funds in my education so that I could succeed. They say I’ll always be indebted to them. I dont feel that way though. They are also the people who didnt let me pursue the course that I wanted and refused to pay for it. I hate myself for that. I hate myself for letting them bully me into it and now I’m stuck in a field that I have to keep on working in to pay my student loans and my family coz they have spent their funds on me and have nothing left. I feel so alone. I feel detached from this world. I feel so unloved. I remember being poor and so we would all sleep in the same king sized bed, all 4 of us. And I’d get pushed out and would sleep half on the bed and half of my body falling out. And I would cry silently every night. And all I could think was of getting away. My parents didnt let go of any opportunity to scold me, beat me, show me how dumb and stupid I was, but barely can I remember them encouraging me. The times they did, seem formal and detached at best. I was expected to function normally no matter what. My brother was born autistic and so he was loved. And I loved him too. But when I would tell them that they were partial to him and loved him more they would tell me that I was jealous of an autistic child and that was bad. That I wanted him to be mental. That I wished he stayed crazy. I stopped complaining after that.I had no friends. Nobody in my class would speak to me mostly. When they did, it was to make fun of me, taunt me, or to just annoy me. I really didnt mind that. It didnt affect me. I liked to read a lot and so I would just keep reading the stories in my english book or get something from the library. I surrounded myself with stories. My parents hated each other and my dad seemingly beat me when he was mad at my mom or they had fought. I would get beat up for talking coz he didn’t feel like it. I got beat up for hugging him coz he had come out of the shower and wanted to pray and me touching him had made him “unclean” and so he couldn’t pray.Several times I got beat up for not studying throughout the day. If my father was pissed  and found me without a book in my hand, I was definitely going to get beat up. When I bring it up now, my mom says thats normal and that every child gets beaten. She says that he spent his retirement fund on my education and that even if I pay him back, I’ll be forever indebted to him. It pisses me off that I will always be indebted to him. It feels like he was wrong and they messed me up and so I dont want to owe him anything. Worst of all, I feel all this talk of me being jealous of my brother turned him against me. We used to be so close. Now he barely talks to me. He started beating me up too a couple of years ago until I moved out. I have always thought that all of this was the reason for my depression. But what if its not? What if I am actually a horrible and self involved person that small things that my parents did for my good, I concocted as negative in my head and am making them evil? I am just not ready to get a verdict from a therapist. Coz I know I am too unhinged. I cant be right when the entire world hates on me right? I mean I dont get along with most of the people, dont like to talk to many, and have speakable friends that I can count on one hand. I feel that I have just made a huge issue out of this in my head and if thats true, what the fuck do I do?\"\n",
    "\"\"\""
   ]
  },
  {
   "cell_type": "code",
   "execution_count": 57,
   "metadata": {},
   "outputs": [],
   "source": [
    "family_tags = set([\"family\",\n",
    "\"siblings\",\n",
    "\"mom\",\n",
    "\"mother\",\n",
    "\"father\",\n",
    "\"brother\",\n",
    "\"dad\",\n",
    "\"home\",\n",
    "\"house\",\n",
    "\"household\",\n",
    "\"husband\",\n",
    "\"wife\",\n",
    "\"mum\",\n",
    "\"parents\",\n",
    "\"son\",\n",
    "\"daughter\"])"
   ]
  },
  {
   "cell_type": "code",
   "execution_count": 23,
   "metadata": {},
   "outputs": [],
   "source": [
    "from nltk.tokenize import sent_tokenize, word_tokenize\n",
    "from nltk.corpus import stopwords\n",
    "import nltk"
   ]
  },
  {
   "cell_type": "code",
   "execution_count": 41,
   "metadata": {},
   "outputs": [],
   "source": [
    "stopwords_list = stopwords.words('english')\n",
    "stopwords_tagged = nltk.tag.pos_tag(stopwords_list)\n",
    "stopwords_wo_pronoun = [word[0] for word in stopwords_tagged if word[1] not in ['PRP', 'PRP$']][1:]"
   ]
  },
  {
   "cell_type": "code",
   "execution_count": 50,
   "metadata": {},
   "outputs": [
    {
     "data": {
      "text/plain": [
       "['I depression get anxiety attacks cant fucking stop crying .',\n",
       " 'I think I went traumatic childhood I dont know considered normal .',\n",
       " 'Children India get beat time .',\n",
       " 'Is it okay get beat spelling mistakes ?',\n",
       " 'I ’ sure.I googled symptoms they seem match , I ’ doctor .',\n",
       " 'It sucks .',\n",
       " 'I wish I could sure I ’ fucked coz my parents treated me .',\n",
       " 'My parents tell me they ’ sacrificed their lives me , spent their retirement funds my education I could succeed .',\n",
       " 'They say I ’ always indebted them .',\n",
       " 'I dont feel way though .',\n",
       " 'They also people didnt let me pursue course I wanted refused pay it .',\n",
       " 'I hate myself .',\n",
       " 'I hate myself letting them bully me it I ’ stuck field I keep working pay my student loans my family coz they spent their funds me nothing left .',\n",
       " 'I feel alone .',\n",
       " 'I feel detached world .',\n",
       " 'I feel unloved .',\n",
       " 'I remember poor we would sleep king sized bed , 4 us .',\n",
       " 'And I ’ get pushed would sleep half bed half my body falling .',\n",
       " 'And I would cry silently every night .',\n",
       " 'And I could think getting away .',\n",
       " 'My parents didnt let go opportunity scold me , beat me , show me dumb stupid I , barely I remember them encouraging me .',\n",
       " 'The times they , seem formal detached best .',\n",
       " 'I expected function normally matter .',\n",
       " 'My brother born autistic he loved .',\n",
       " 'And I loved him .',\n",
       " 'But I would tell them they partial him loved him they would tell me I jealous autistic child bad .',\n",
       " 'That I wanted him mental .',\n",
       " 'That I wished he stayed crazy .',\n",
       " 'I stopped complaining that.I friends .',\n",
       " 'Nobody my class would speak me mostly .',\n",
       " 'When they , it make fun me , taunt me , annoy me .',\n",
       " 'I really didnt mind .',\n",
       " 'It didnt affect me .',\n",
       " 'I liked read lot I would keep reading stories my english book get something library .',\n",
       " 'I surrounded myself stories .',\n",
       " 'My parents hated my dad seemingly beat me he mad my mom they fought .',\n",
       " 'I would get beat talking coz he ’ feel like it .',\n",
       " 'I got beat hugging him coz he come shower wanted pray me touching him made him “ unclean ” he ’ pray.Several times I got beat studying throughout day .',\n",
       " 'If my father pissed found me without book my hand , I definitely going get beat .',\n",
       " 'When I bring it , my mom says thats normal every child gets beaten .',\n",
       " 'She says he spent his retirement fund my education even I pay him back , I ’ forever indebted him .',\n",
       " 'It pisses me I always indebted him .',\n",
       " 'It feels like he wrong they messed me I dont want owe him anything .',\n",
       " 'Worst , I feel talk me jealous my brother turned him me .',\n",
       " 'We used close .',\n",
       " 'Now he barely talks me .',\n",
       " 'He started beating me couple years ago I moved .',\n",
       " 'I always thought reason my depression .',\n",
       " 'But its ?',\n",
       " 'What I actually horrible self involved person small things my parents my good , I concocted negative my head making them evil ?',\n",
       " 'I ready get verdict therapist .',\n",
       " 'Coz I know I unhinged .',\n",
       " 'I cant right entire world hates me right ?',\n",
       " 'I mean I dont get along people , dont like talk many , speakable friends I count one hand .',\n",
       " \"I feel I made huge issue my head thats true , fuck I ? ''\"]"
      ]
     },
     "execution_count": 50,
     "metadata": {},
     "output_type": "execute_result"
    }
   ],
   "source": [
    "sent_list = sent_tokenize(post)\n",
    "final_sent_list = []\n",
    "for sent in sent_list:\n",
    "    temp = []\n",
    "    for word in word_tokenize(sent):\n",
    "        if word not in stopwords_wo_pronoun:\n",
    "            temp.append(word)\n",
    "    final_sent_list.append(\" \".join(temp))\n",
    "final_sent_list"
   ]
  },
  {
   "cell_type": "code",
   "execution_count": 58,
   "metadata": {},
   "outputs": [],
   "source": [
    "family_list = []\n",
    "for sent in final_sent_list:\n",
    "    if set(word_tokenize(sent)).intersection(set(family_tags)):\n",
    "        family_list.append(sent)"
   ]
  },
  {
   "cell_type": "code",
   "execution_count": 59,
   "metadata": {},
   "outputs": [
    {
     "data": {
      "text/plain": [
       "['I wish I could sure I ’ fucked coz my parents treated me .',\n",
       " 'My parents tell me they ’ sacrificed their lives me , spent their retirement funds my education I could succeed .',\n",
       " 'I hate myself letting them bully me it I ’ stuck field I keep working pay my student loans my family coz they spent their funds me nothing left .',\n",
       " 'My parents didnt let go opportunity scold me , beat me , show me dumb stupid I , barely I remember them encouraging me .',\n",
       " 'My brother born autistic he loved .',\n",
       " 'My parents hated my dad seemingly beat me he mad my mom they fought .',\n",
       " 'If my father pissed found me without book my hand , I definitely going get beat .',\n",
       " 'When I bring it , my mom says thats normal every child gets beaten .',\n",
       " 'Worst , I feel talk me jealous my brother turned him me .',\n",
       " 'What I actually horrible self involved person small things my parents my good , I concocted negative my head making them evil ?']"
      ]
     },
     "execution_count": 59,
     "metadata": {},
     "output_type": "execute_result"
    }
   ],
   "source": [
    "family_list"
   ]
  },
  {
   "cell_type": "code",
   "execution_count": null,
   "metadata": {},
   "outputs": [],
   "source": []
  }
 ],
 "metadata": {
  "kernelspec": {
   "display_name": "Python 3",
   "language": "python",
   "name": "python3"
  },
  "language_info": {
   "codemirror_mode": {
    "name": "ipython",
    "version": 3
   },
   "file_extension": ".py",
   "mimetype": "text/x-python",
   "name": "python",
   "nbconvert_exporter": "python",
   "pygments_lexer": "ipython3",
   "version": "3.6.9"
  }
 },
 "nbformat": 4,
 "nbformat_minor": 4
}
