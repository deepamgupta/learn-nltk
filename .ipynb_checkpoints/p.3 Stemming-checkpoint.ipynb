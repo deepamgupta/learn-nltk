{
 "cells": [
  {
   "cell_type": "markdown",
   "metadata": {},
   "source": [
    "1. `I was taking a ride in the car.`\n",
    "1. `I was riding in the car.`\n",
    "\n",
    "The two sentences have the same meaning but the word \"ride\" and \"riding\" differ.\n",
    "\n",
    "this may add up to a lot of database.\n",
    "Stemming is to bringing the words to the root word.\n",
    "\n",
    "> Instead of using stemming, we now have `wordnet` which will use `sysnets`.\n",
    ">\n",
    "> So, stemming is something we will hardly ever utilize."
   ]
  },
  {
   "cell_type": "code",
   "execution_count": 1,
   "metadata": {},
   "outputs": [],
   "source": [
    "from nltk.stem import PorterStemmer\n",
    "from nltk.tokenize import word_tokenize"
   ]
  },
  {
   "cell_type": "code",
   "execution_count": 3,
   "metadata": {},
   "outputs": [],
   "source": [
    "ps = PorterStemmer()"
   ]
  },
  {
   "cell_type": "code",
   "execution_count": 4,
   "metadata": {},
   "outputs": [],
   "source": [
    "example_words = [\"python\",\"pthonage\",\"pythoning\",\"pythonista\",\"pythonly\", \"pythons\"]"
   ]
  },
  {
   "cell_type": "code",
   "execution_count": 5,
   "metadata": {},
   "outputs": [
    {
     "name": "stdout",
     "output_type": "stream",
     "text": [
      "python\n",
      "pthonag\n",
      "python\n",
      "pythonista\n",
      "pythonli\n",
      "python\n"
     ]
    }
   ],
   "source": [
    "for word in example_words:\n",
    "    print(ps.stem(word))"
   ]
  },
  {
   "cell_type": "code",
   "execution_count": 9,
   "metadata": {},
   "outputs": [
    {
     "data": {
      "text/plain": [
       "['It',\n",
       " 'is',\n",
       " 'veri',\n",
       " 'import',\n",
       " 'to',\n",
       " 'be',\n",
       " 'pythonli',\n",
       " 'when',\n",
       " 'you',\n",
       " 'are',\n",
       " 'python',\n",
       " 'with',\n",
       " 'python',\n",
       " '.',\n",
       " 'all',\n",
       " 'python',\n",
       " 'have',\n",
       " 'python',\n",
       " 'poorli',\n",
       " 'atleast',\n",
       " 'onc',\n",
       " '.']"
      ]
     },
     "execution_count": 9,
     "metadata": {},
     "output_type": "execute_result"
    }
   ],
   "source": [
    "new_text = \"It is very important to be pythonly when you are pythoning with python. All pythoners have pythoned poorly atleast once.\"\n",
    "[ps.stem(word) for word in word_tokenize(new_text)]"
   ]
  },
  {
   "cell_type": "code",
   "execution_count": null,
   "metadata": {},
   "outputs": [],
   "source": []
  }
 ],
 "metadata": {
  "kernelspec": {
   "display_name": "Python 3",
   "language": "python",
   "name": "python3"
  },
  "language_info": {
   "codemirror_mode": {
    "name": "ipython",
    "version": 3
   },
   "file_extension": ".py",
   "mimetype": "text/x-python",
   "name": "python",
   "nbconvert_exporter": "python",
   "pygments_lexer": "ipython3",
   "version": "3.6.9"
  }
 },
 "nbformat": 4,
 "nbformat_minor": 4
}
