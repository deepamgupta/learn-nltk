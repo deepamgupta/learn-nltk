{
 "cells": [
  {
   "cell_type": "markdown",
   "metadata": {},
   "source": [
    "### Pickle \n",
    "pickle is a way to save python objects, so, that we can load in those objects.\n",
    "We can save a classifier or model so that we don't need to train it again."
   ]
  },
  {
   "cell_type": "code",
   "execution_count": 2,
   "metadata": {},
   "outputs": [],
   "source": [
    "import nltk\n",
    "import random # this we will use to shuffle our dataset, coz for now it is higlhy ordered, first all negative, than positive than neutaral.\n",
    "from nltk.corpus import movie_reviews"
   ]
  },
  {
   "cell_type": "code",
   "execution_count": 3,
   "metadata": {},
   "outputs": [],
   "source": [
    "documents = [(list(movie_reviews.words(fileid)), category)\n",
    "            for category in movie_reviews.categories()\n",
    "            for fileid in movie_reviews.fileids(category)]"
   ]
  },
  {
   "cell_type": "code",
   "execution_count": 4,
   "metadata": {},
   "outputs": [],
   "source": [
    "random.shuffle(documents)\n",
    "# print(documents[:100])"
   ]
  },
  {
   "cell_type": "markdown",
   "metadata": {},
   "source": [
    "_what we're going to end up having to do is take all of these words though literally take every word in every review and compile them and then basically we do is we'll take that list of words and we'll find the most popular words  used and then we take of those most popular words which one appear in positive text and which ones negative text and then we simply just search for those words and whichever one it has more negative words or more positive words that's how we classify it_"
   ]
  },
  {
   "cell_type": "code",
   "execution_count": 5,
   "metadata": {},
   "outputs": [],
   "source": [
    "all_words = []\n",
    "for w in movie_reviews.words():\n",
    "    all_words.append(w.lower())"
   ]
  },
  {
   "cell_type": "code",
   "execution_count": 6,
   "metadata": {},
   "outputs": [],
   "source": [
    "all_words = nltk.FreqDist(all_words)"
   ]
  },
  {
   "cell_type": "code",
   "execution_count": 7,
   "metadata": {},
   "outputs": [],
   "source": [
    "word_features = list(all_words.keys())[:3000]"
   ]
  },
  {
   "cell_type": "code",
   "execution_count": 8,
   "metadata": {},
   "outputs": [],
   "source": [
    "def find_features(document):\n",
    "    words = set(document)\n",
    "    features = {}\n",
    "    for w in words:\n",
    "        features[w] = (w in words)\n",
    "        \n",
    "    return features"
   ]
  },
  {
   "cell_type": "code",
   "execution_count": 9,
   "metadata": {},
   "outputs": [
    {
     "name": "stdout",
     "output_type": "stream",
     "text": [
      "{'redundant': True, 'good': True, 'generation': True, 'since': True, 'look': True, 'ago': True, 'director': True, 'seems': True, 'chase': True, 'unravel': True, 'entertain': True, 'problems': True, 'for': True, 'neat': True, 'review': True, 'simply': True, 'melissa': True, 'bentley': True, 'witch': True, 'way': True, 'like': True, 'still': True, 'somewhere': True, 'different': True, 'coming': True, 'this': True, 'sense': True, 'member': True, 'given': True, 'slasher': True, 's': True, ')': True, 'echoes': True, 'ending': True, 'shows': True, 'over': True, 'in': True, 'main': True, 'again': True, 'also': True, 'from': True, 'runtime': True, 'doesn': True, 'write': True, 'and': True, 'too': True, 'packaged': True, 'line': True, 'arrow': True, 'both': True, 'new': True, 've': True, 'obviously': True, '?': True, 'dreams': True, 'meantime': True, '4': True, '!': True, 'i': True, 'plot': True, 'actually': True, 'its': True, 'life': True, 'understanding': True, 'couples': True, 'skip': True, 'us': True, 'into': True, 'scenes': True, '10': True, 'executed': True, 'correctly': True, 'mean': True, 'mind': True, 'cool': True, 'people': True, 'enter': True, 'party': True, 'we': True, 'explanation': True, 'genre': True, 'flicks': True, 'production': True, 'before': True, 'themselves': True, 'harder': True, 'by': True, 'others': True, 'start': True, 'head': True, 'giving': True, 'bit': True, 'stick': True, 'such': True, 'watch': True, 'out': True, 'folks': True, 'crow': True, 'don': True, 'church': True, 'going': True, 'critique': True, 'happen': True, 'now': True, 'when': True, 'fed': True, 'visions': True, 'girlfriend': True, 'a': True, 'okay': True, 'back': True, 'nightmare': True, 'touches': True, 'entertaining': True, 'you': True, 'concept': True, 'things': True, 'her': True, 'have': True, 'sad': True, 'excites': True, 'sitting': True, 'until': True, 'types': True, 'wrapped': True, '.': True, 'they': True, 'unraveling': True, 'who': True, 'offering': True, 'jumbled': True, 'do': True, 'elm': True, 'not': True, 'well': True, 'hide': True, 'film': True, 'insight': True, 'are': True, 'final': True, 'always': True, 'music': True, 'no': True, 'decent': True, 'be': True, 'strange': True, 'more': True, 'suits': True, 'someone': True, 'after': True, 'about': True, 'hot': True, 'movies': True, 'salvation': True, 'fantasy': True, 'make': True, 'memento': True, 'plain': True, '-': True, 'that': True, 'away': True, 'where': True, 'video': True, 'while': True, 'makes': True, 'dig': True, 'accident': True, 'been': True, 'own': True, 'then': True, 'clue': True, 'engaging': True, 'throughout': True, 'characters': True, 'up': True, 'generally': True, ',': True, 'stir': True, 'might': True, 'know': True, 'american': True, 'he': True, 'two': True, 'taken': True, 'very': True, 'just': True, 'want': True, '20': True, 'dead': True, 'biggest': True, 'normal': True, 'rarely': True, 'sorta': True, 'took': True, 'apparitions': True, 'turning': True, 'feeling': True, 'playing': True, 'my': True, 'craziness': True, 'assuming': True, 'which': True, 'kind': True, 'horror': True, 'it': True, 'completely': True, 'password': True, 'movie': True, 'pretty': True, 'presents': True, 'need': True, 'these': True, 'off': True, 'beauty': True, 'got': True, 'kudos': True, 'here': True, 'of': True, 'drink': True, 'his': True, 'terribly': True, 'thrilling': True, 'explained': True, 'the': True, 'part': True, 'trying': True, 'your': True, 'although': True, 'sure': True, 'there': True, 'see': True, 'deal': True, '/': True, 'sagemiller': True, 'neighborhood': True, 'minutes': True, 'break': True, 'downshifts': True, 'snag': True, 'down': True, 'character': True, 'or': True, 'find': True, 'teen': True, 'him': True, 'attempt': True, 'because': True, 'ever': True, 'so': True, '(': True, 'seemed': True, 'fuck': True, 'seem': True, 'mold': True, 'package': True, 'despite': True, 'wes': True, 'does': True, 'entire': True, '2': True, 'edge': True, 'nightmares': True, 'how': True, 'shelves': True, ':': True, 'looooot': True, 'years': True, 'go': True, 'didn': True, 'world': True, 'an': True, 'did': True, 'five': True, '3': True, 'what': True, 'disappearances': True, 'lost': True, 'audience': True, 'making': True, 'running': True, 'get': True, 'came': True, '&': True, 'actors': True, 'oh': True, 'whatever': True, 'problem': True, 'decided': True, 'should': True, 'street': True, '7': True, 'every': True, 'one': True, 'guys': True, 'dies': True, 'guess': True, 'figured': True, 'half': True, 'chopped': True, 't': True, 'most': True, '8': True, 'big': True, 'to': True, 'point': True, 'continues': True, 'confusing': True, 'on': True, 'is': True, 'tons': True, \"'\": True, 'little': True, 'mess': True, 'kids': True, 'feels': True, 'strangeness': True, 'flick': True, 'has': True, 'overall': True, 'films': True, 'exact': True, 'showing': True, 'chasing': True, 'would': True, 'studio': True, '9': True, 'applaud': True, 'blair': True, 'all': True, 'lazy': True, 'but': True, 'bad': True, 'further': True, 'holds': True, 'apparently': True, 'only': True, 'give': True, '\"': True, 'even': True, 'as': True, 'with': True, 'ways': True, 'weird': True, 'highway': True, 'personally': True, 'drive': True, 'starts': True, 'bottom': True, 'secret': True, 'really': True, 'same': True, 'joblo': True, 'idea': True, 'me': True}\n"
     ]
    }
   ],
   "source": [
    "print((find_features(movie_reviews.words('neg/cv000_29416.txt'))))"
   ]
  },
  {
   "cell_type": "code",
   "execution_count": 10,
   "metadata": {},
   "outputs": [],
   "source": [
    "featuresets = [(find_features(rev), category) for (rev, category) in documents]"
   ]
  },
  {
   "cell_type": "code",
   "execution_count": 11,
   "metadata": {},
   "outputs": [],
   "source": [
    "train_set = featuresets[:1900]\n",
    "test_set = featuresets[1900:]"
   ]
  },
  {
   "cell_type": "markdown",
   "metadata": {},
   "source": [
    "### Naive Byes Algorithm\n",
    "posterior = prior occurences * occurences / likelihood"
   ]
  },
  {
   "cell_type": "code",
   "execution_count": 12,
   "metadata": {},
   "outputs": [
    {
     "name": "stdout",
     "output_type": "stream",
     "text": [
      "Naive Bayes algo accuracy:  76.0\n",
      "Most Informative Features\n",
      "                  seagal = True              neg : pos    =     12.8 : 1.0\n",
      "              astounding = True              pos : neg    =     12.5 : 1.0\n",
      "                  avoids = True              pos : neg    =     12.5 : 1.0\n",
      "             outstanding = True              pos : neg    =     11.1 : 1.0\n",
      "                    3000 = True              neg : pos    =     10.9 : 1.0\n",
      "                headache = True              neg : pos    =     10.9 : 1.0\n",
      "               ludicrous = True              neg : pos    =     10.6 : 1.0\n",
      "                   sucks = True              neg : pos    =     10.5 : 1.0\n",
      "             fascination = True              pos : neg    =     10.5 : 1.0\n",
      "                outsider = True              pos : neg    =     10.5 : 1.0\n",
      "                seamless = True              pos : neg    =     10.5 : 1.0\n",
      "                    slip = True              pos : neg    =     10.5 : 1.0\n",
      "               insulting = True              neg : pos    =     10.1 : 1.0\n",
      "                 conveys = True              pos : neg    =      9.8 : 1.0\n",
      "                  hatred = True              pos : neg    =      9.8 : 1.0\n"
     ]
    }
   ],
   "source": [
    "classifier = nltk.NaiveBayesClassifier.train(train_set)\n",
    "print('Naive Bayes algo accuracy: ', nltk.classify.accuracy(classifier, test_set) * 100)\n",
    "classifier.show_most_informative_features(15)"
   ]
  },
  {
   "cell_type": "markdown",
   "metadata": {},
   "source": [
    "## using pickle"
   ]
  },
  {
   "cell_type": "code",
   "execution_count": 13,
   "metadata": {},
   "outputs": [],
   "source": [
    "import pickle"
   ]
  },
  {
   "cell_type": "markdown",
   "metadata": {},
   "source": [
    "#### saving classifier to a file "
   ]
  },
  {
   "cell_type": "code",
   "execution_count": 19,
   "metadata": {},
   "outputs": [],
   "source": [
    "# save_classifier = open('naivebyes.pickle', 'wb')\n",
    "# pickle.dump(classifier, save_classifier)\n",
    "# save_classifier.close()"
   ]
  },
  {
   "cell_type": "markdown",
   "metadata": {},
   "source": [
    "#### loading classifier from a file"
   ]
  },
  {
   "cell_type": "code",
   "execution_count": 17,
   "metadata": {},
   "outputs": [],
   "source": [
    "classifier_f = open('naivebyes.pickle', 'rb')\n",
    "classifier = pickle.load(classifier_f)     \n",
    "classifier_f.close()"
   ]
  },
  {
   "cell_type": "code",
   "execution_count": 18,
   "metadata": {},
   "outputs": [
    {
     "name": "stdout",
     "output_type": "stream",
     "text": [
      "Naive Bayes algo accuracy:  76.0\n",
      "Most Informative Features\n",
      "                  seagal = True              neg : pos    =     12.8 : 1.0\n",
      "              astounding = True              pos : neg    =     12.5 : 1.0\n",
      "                  avoids = True              pos : neg    =     12.5 : 1.0\n",
      "             outstanding = True              pos : neg    =     11.1 : 1.0\n",
      "                    3000 = True              neg : pos    =     10.9 : 1.0\n",
      "                headache = True              neg : pos    =     10.9 : 1.0\n",
      "               ludicrous = True              neg : pos    =     10.6 : 1.0\n",
      "                   sucks = True              neg : pos    =     10.5 : 1.0\n",
      "             fascination = True              pos : neg    =     10.5 : 1.0\n",
      "                outsider = True              pos : neg    =     10.5 : 1.0\n",
      "                seamless = True              pos : neg    =     10.5 : 1.0\n",
      "                    slip = True              pos : neg    =     10.5 : 1.0\n",
      "               insulting = True              neg : pos    =     10.1 : 1.0\n",
      "                 conveys = True              pos : neg    =      9.8 : 1.0\n",
      "                  hatred = True              pos : neg    =      9.8 : 1.0\n"
     ]
    }
   ],
   "source": [
    "classifier = nltk.NaiveBayesClassifier.train(train_set)\n",
    "print('Naive Bayes algo accuracy: ', nltk.classify.accuracy(classifier, test_set) * 100)\n",
    "classifier.show_most_informative_features(15)"
   ]
  },
  {
   "cell_type": "code",
   "execution_count": null,
   "metadata": {},
   "outputs": [],
   "source": []
  }
 ],
 "metadata": {
  "kernelspec": {
   "display_name": "Python 3",
   "language": "python",
   "name": "python3"
  },
  "language_info": {
   "codemirror_mode": {
    "name": "ipython",
    "version": 3
   },
   "file_extension": ".py",
   "mimetype": "text/x-python",
   "name": "python",
   "nbconvert_exporter": "python",
   "pygments_lexer": "ipython3",
   "version": "3.6.9"
  }
 },
 "nbformat": 4,
 "nbformat_minor": 4
}
