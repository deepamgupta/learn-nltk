{
 "cells": [
  {
   "cell_type": "code",
   "execution_count": 2,
   "metadata": {},
   "outputs": [],
   "source": [
    "import nltk\n",
    "import random # this we will use to shuffle our dataset, coz for now it is higlhy ordered, first all negative, than positive than neutaral.\n",
    "from nltk.corpus import movie_reviews"
   ]
  },
  {
   "cell_type": "code",
   "execution_count": 3,
   "metadata": {},
   "outputs": [],
   "source": [
    "documents = [(list(movie_reviews.words(fileid)), category)\n",
    "            for category in movie_reviews.categories()\n",
    "            for fileid in movie_reviews.fileids(category)]"
   ]
  },
  {
   "cell_type": "code",
   "execution_count": 4,
   "metadata": {},
   "outputs": [],
   "source": [
    "random.shuffle(documents)\n",
    "# print(documents[:100])"
   ]
  },
  {
   "cell_type": "markdown",
   "metadata": {},
   "source": [
    "_what we're going to end up having to do is take all of these words though literally take every word in every review and compile them and then basically we do is we'll take that list of words and we'll find the most popular words  used and then we take of those most popular words which one appear in positive text and which ones negative text and then we simply just search for those words and whichever one it has more negative words or more positive words that's how we classify it_"
   ]
  },
  {
   "cell_type": "code",
   "execution_count": 5,
   "metadata": {},
   "outputs": [],
   "source": [
    "all_words = []\n",
    "for w in movie_reviews.words():\n",
    "    all_words.append(w.lower())"
   ]
  },
  {
   "cell_type": "code",
   "execution_count": 6,
   "metadata": {},
   "outputs": [],
   "source": [
    "all_words = nltk.FreqDist(all_words)"
   ]
  },
  {
   "cell_type": "code",
   "execution_count": 8,
   "metadata": {},
   "outputs": [],
   "source": [
    "word_features = list(all_words.keys())[:3000]"
   ]
  },
  {
   "cell_type": "code",
   "execution_count": 9,
   "metadata": {},
   "outputs": [],
   "source": [
    "def find_features(document):\n",
    "    words = set(document)\n",
    "    features = {}\n",
    "    for w in words:\n",
    "        features[w] = (w in words)\n",
    "        \n",
    "    return features"
   ]
  },
  {
   "cell_type": "code",
   "execution_count": 11,
   "metadata": {},
   "outputs": [
    {
     "name": "stdout",
     "output_type": "stream",
     "text": [
      "{'tons': True, 'took': True, 'be': True, 'is': True, 'always': True, 'but': True, 'here': True, 'want': True, 'problems': True, 'need': True, 'making': True, 'again': True, 'when': True, 'for': True, 'redundant': True, 'strangeness': True, 'new': True, 'engaging': True, 'chopped': True, 'bad': True, 'find': True, 'not': True, 'sad': True, 'and': True, 'giving': True, 'insight': True, 'sorta': True, 'bentley': True, 'weird': True, 'horror': True, 'actually': True, 'personally': True, 'elm': True, 'music': True, 'feels': True, \"'\": True, 'lazy': True, 'movies': True, 'skip': True, 'half': True, 'nightmares': True, 'different': True, 'did': True, 'bit': True, 'accident': True, '7': True, 'until': True, 'who': True, 't': True, 'shows': True, 'chasing': True, 'drink': True, 'so': True, 'idea': True, 'girlfriend': True, 'production': True, 'apparitions': True, 'church': True, 'really': True, 'bottom': True, '?': True, 'years': True, 'your': True, 'okay': True, 'despite': True, 'actors': True, 'an': True, 'over': True, 'films': True, 'memento': True, 'line': True, 'well': True, 'stir': True, 'generation': True, 'minutes': True, 'director': True, 'things': True, 'witch': True, 'get': True, 'how': True, 'makes': True, 'you': True, 'kids': True, 'sitting': True, 'party': True, 'mean': True, 'hide': True, 'oh': True, 'drive': True, 'flick': True, '3': True, 'correctly': True, 'while': True, 'video': True, 'all': True, 'dreams': True, 'highway': True, 'also': True, 'happen': True, 'thrilling': True, 'arrow': True, 'big': True, 'lost': True, 'they': True, 'exact': True, 'would': True, 'deal': True, 'or': True, 'guys': True, 'crow': True, 'secret': True, 'understanding': True, 'i': True, 'what': True, 'about': True, 'continues': True, 'into': True, 'although': True, 'see': True, 'as': True, 'sense': True, 'entire': True, 'fed': True, 'salvation': True, 'five': True, 'cool': True, 'others': True, 'simply': True, 'kind': True, 'seem': True, 'kudos': True, 'of': True, 'it': True, 'whatever': True, 'problem': True, 'don': True, 'flicks': True, 'seems': True, 'couples': True, 'go': True, 's': True, 'are': True, 'with': True, 'assuming': True, 'in': True, 'scenes': True, 'after': True, 'then': True, 'most': True, 'just': True, 'her': True, 'even': True, 'attempt': True, 'ways': True, 'password': True, 'own': True, 'someone': True, 'he': True, 'strange': True, 'touches': True, 'blair': True, 'package': True, 'packaged': True, 'write': True, 'apparently': True, 'american': True, 'figured': True, 'further': True, 'has': True, 'from': True, 'little': True, 'overall': True, 'back': True, 'shelves': True, 'break': True, 'neat': True, '-': True, 'offering': True, 'plain': True, 'to': True, 'clue': True, 'have': True, 'rarely': True, 'suits': True, 'me': True, 'starts': True, 've': True, 'character': True, 'explanation': True, '\"': True, 'trying': True, 'beauty': True, 'turning': True, 'decent': True, 'we': True, 'watch': True, 'give': True, 'joblo': True, 'confusing': True, 'which': True, 'entertaining': True, 'more': True, 'people': True, 'dies': True, 'before': True, 'him': True, 'start': True, '&': True, 'make': True, 'wes': True, 'been': True, 'characters': True, 'know': True, '/': True, '4': True, ')': True, 'disappearances': True, 'guess': True, 'down': True, 'biggest': True, 'on': True, 'neighborhood': True, 'presents': True, 'look': True, 'now': True, 'by': True, 'feeling': True, 'no': True, 'meantime': True, 'executed': True, 'unraveling': True, 'ago': True, 'hot': True, 'excites': True, 'life': True, 'melissa': True, 'came': True, 'fantasy': True, 'these': True, 'there': True, 'types': True, 'its': True, 'throughout': True, 'didn': True, 'plot': True, 'somewhere': True, 'world': True, 'harder': True, 'that': True, 'explained': True, 'nightmare': True, 'same': True, 'ending': True, ',': True, 'obviously': True, 'my': True, 'showing': True, 'teen': True, 'genre': True, 'ever': True, 'does': True, 'completely': True, 'because': True, 'both': True, 'good': True, ':': True, 'folks': True, 'do': True, 'member': True, 'mind': True, 'this': True, 'seemed': True, '.': True, 'such': True, 'got': True, 'running': True, 'generally': True, 'entertain': True, 'part': True, 'playing': True, 'only': True, 'jumbled': True, 'like': True, 'doesn': True, 'slasher': True, 'point': True, 'movie': True, 'dig': True, 'a': True, 'his': True, 'stick': True, 'sure': True, 'runtime': True, 'looooot': True, 'review': True, 'studio': True, 'might': True, 'decided': True, 'terribly': True, 'enter': True, 'normal': True, 'film': True, 'themselves': True, 'mess': True, 'way': True, 'visions': True, 'very': True, 'the': True, 'two': True, 'since': True, 'one': True, 'applaud': True, '2': True, 'main': True, 'final': True, 'us': True, '10': True, 'street': True, 'coming': True, 'where': True, 'head': True, '9': True, '8': True, 'mold': True, 'up': True, 'dead': True, 'edge': True, '20': True, 'given': True, 'chase': True, 'echoes': True, '!': True, 'holds': True, 'audience': True, 'fuck': True, 'sagemiller': True, 'critique': True, 'going': True, 'out': True, 'off': True, 'snag': True, 'too': True, 'concept': True, 'downshifts': True, 'unravel': True, 'pretty': True, 'wrapped': True, 'every': True, '(': True, 'away': True, 'craziness': True, 'taken': True, 'still': True, 'should': True}\n"
     ]
    }
   ],
   "source": [
    "print((find_features(movie_reviews.words('neg/cv000_29416.txt'))))"
   ]
  },
  {
   "cell_type": "code",
   "execution_count": 14,
   "metadata": {},
   "outputs": [],
   "source": [
    "featuresets = [(find_features(rev), category) for (rev, category) in documents]"
   ]
  },
  {
   "cell_type": "code",
   "execution_count": null,
   "metadata": {},
   "outputs": [],
   "source": []
  }
 ],
 "metadata": {
  "kernelspec": {
   "display_name": "Python 3",
   "language": "python",
   "name": "python3"
  },
  "language_info": {
   "codemirror_mode": {
    "name": "ipython",
    "version": 3
   },
   "file_extension": ".py",
   "mimetype": "text/x-python",
   "name": "python",
   "nbconvert_exporter": "python",
   "pygments_lexer": "ipython3",
   "version": "3.6.9"
  }
 },
 "nbformat": 4,
 "nbformat_minor": 4
}
