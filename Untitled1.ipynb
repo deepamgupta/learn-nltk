{
 "cells": [
  {
   "cell_type": "code",
   "execution_count": 12,
   "metadata": {},
   "outputs": [],
   "source": [
    "import nltk\n",
    "from nltk.tokenize import sent_tokenize, word_tokenize\n",
    "from nltk import pos_tag"
   ]
  },
  {
   "cell_type": "code",
   "execution_count": 13,
   "metadata": {},
   "outputs": [],
   "source": [
    "post = '''I need help to cure my depression. I've been depressed since 3 years now. It is causing some panic attacks and sleepless nights now. Since I am a college student, I have no money. My parents are conservative and do not understand depression. Hence I was looking for some free ways to cure depression. If there is a website or an email or anything at all to offer help, please put it down below. Also anybody else who has got over depression without professional help can also share their story. Have a great day guys!'''"
   ]
  },
  {
   "cell_type": "code",
   "execution_count": 14,
   "metadata": {},
   "outputs": [
    {
     "data": {
      "text/plain": [
       "['I need help to cure my depression.',\n",
       " \"I've been depressed since 3 years now.\",\n",
       " 'It is causing some panic attacks and sleepless nights now.',\n",
       " 'Since I am a college student, I have no money.',\n",
       " 'My parents are conservative and do not understand depression.',\n",
       " 'Hence I was looking for some free ways to cure depression.',\n",
       " 'If there is a website or an email or anything at all to offer help, please put it down below.',\n",
       " 'Also anybody else who has got over depression without professional help can also share their story.',\n",
       " 'Have a great day guys!']"
      ]
     },
     "execution_count": 14,
     "metadata": {},
     "output_type": "execute_result"
    }
   ],
   "source": [
    "tokenized_post = sent_tokenize(post)\n",
    "tokenized_post"
   ]
  },
  {
   "cell_type": "code",
   "execution_count": 18,
   "metadata": {},
   "outputs": [
    {
     "data": {
      "text/plain": [
       "[('I', 'PRP'),\n",
       " ('need', 'VBP'),\n",
       " ('help', 'VB'),\n",
       " ('to', 'TO'),\n",
       " ('cure', 'VB'),\n",
       " ('my', 'PRP$'),\n",
       " ('depression', 'NN'),\n",
       " ('.', '.')]"
      ]
     },
     "execution_count": 18,
     "metadata": {},
     "output_type": "execute_result"
    }
   ],
   "source": [
    "tagged = pos_tag(word_tokenize(tokenized_post[0]))\n",
    "tagged"
   ]
  },
  {
   "cell_type": "code",
   "execution_count": 41,
   "metadata": {},
   "outputs": [],
   "source": [
    "chunk_pattern = r'''Yeh mujhe chiye:{<VB><PRP\\$><NN>}'''\n",
    "chunker = nltk.RegexpParser(chunk_pattern)"
   ]
  },
  {
   "cell_type": "code",
   "execution_count": 42,
   "metadata": {},
   "outputs": [
    {
     "name": "stdout",
     "output_type": "stream",
     "text": [
      "(S Have/VBP a/DT great/JJ day/NN guys/NNS !/.)\n"
     ]
    }
   ],
   "source": [
    "print(chunker.parse(tagged))\n"
   ]
  },
  {
   "cell_type": "code",
   "execution_count": 50,
   "metadata": {},
   "outputs": [
    {
     "name": "stdout",
     "output_type": "stream",
     "text": [
      "(S I/PRP need/VBP help/VB to/TO cure/VB my/PRP$ depression/NN ./.)\n",
      "(S\n",
      "  I/PRP\n",
      "  've/VBP\n",
      "  been/VBN\n",
      "  depressed/VBN\n",
      "  since/IN\n",
      "  3/CD\n",
      "  years/NNS\n",
      "  now/RB\n",
      "  ./.)\n",
      "(S\n",
      "  It/PRP\n",
      "  is/VBZ\n",
      "  causing/VBG\n",
      "  some/DT\n",
      "  panic/NN\n",
      "  attacks/NNS\n",
      "  and/CC\n",
      "  sleepless/JJ\n",
      "  nights/NNS\n",
      "  now/RB\n",
      "  ./.)\n",
      "(S\n",
      "  Since/IN\n",
      "  I/PRP\n",
      "  am/VBP\n",
      "  a/DT\n",
      "  college/NN\n",
      "  student/NN\n",
      "  ,/,\n",
      "  I/PRP\n",
      "  have/VBP\n",
      "  no/DT\n",
      "  money/NN\n",
      "  ./.)\n",
      "(S\n",
      "  My/PRP$\n",
      "  parents/NNS\n",
      "  are/VBP\n",
      "  conservative/JJ\n",
      "  and/CC\n",
      "  do/VBP\n",
      "  not/RB\n",
      "  understand/VB\n",
      "  depression/NN\n",
      "  ./.)\n",
      "(S\n",
      "  Hence/NN\n",
      "  I/PRP\n",
      "  was/VBD\n",
      "  looking/VBG\n",
      "  for/IN\n",
      "  some/DT\n",
      "  free/JJ\n",
      "  ways/NNS\n",
      "  to/TO\n",
      "  cure/VB\n",
      "  depression/NN\n",
      "  ./.)\n",
      "(S\n",
      "  If/IN\n",
      "  there/EX\n",
      "  is/VBZ\n",
      "  a/DT\n",
      "  website/NN\n",
      "  or/CC\n",
      "  an/DT\n",
      "  email/NN\n",
      "  or/CC\n",
      "  anything/NN\n",
      "  at/IN\n",
      "  all/DT\n",
      "  to/TO\n",
      "  offer/VB\n",
      "  help/NN\n",
      "  ,/,\n",
      "  please/VB\n",
      "  put/VB\n",
      "  it/PRP\n",
      "  down/RP\n",
      "  below/IN\n",
      "  ./.)\n",
      "(S\n",
      "  Also/RB\n",
      "  anybody/NN\n",
      "  else/RB\n",
      "  who/WP\n",
      "  has/VBZ\n",
      "  got/VBD\n",
      "  over/IN\n",
      "  depression/NN\n",
      "  without/IN\n",
      "  professional/JJ\n",
      "  help/NN\n",
      "  can/MD\n",
      "  also/RB\n",
      "  share/NN\n",
      "  their/PRP$\n",
      "  story/NN\n",
      "  ./.)\n",
      "(S Have/VBP a/DT great/JJ day/NN guys/NNS !/.)\n"
     ]
    }
   ],
   "source": [
    "nouns = []\n",
    "for sent in tokenized_post:\n",
    "    tagged = pos_tag(word_tokenize(sent))\n",
    "    chunk_pattern = r'''sev: }<NN>{'''\n",
    "    chunker = nltk.RegexpParser(chunk_pattern)\n",
    "    print(chunker.parse(tagged))\n",
    "    "
   ]
  },
  {
   "cell_type": "code",
   "execution_count": null,
   "metadata": {},
   "outputs": [],
   "source": []
  },
  {
   "cell_type": "code",
   "execution_count": null,
   "metadata": {},
   "outputs": [],
   "source": []
  }
 ],
 "metadata": {
  "kernelspec": {
   "display_name": "Python 3",
   "language": "python",
   "name": "python3"
  },
  "language_info": {
   "codemirror_mode": {
    "name": "ipython",
    "version": 3
   },
   "file_extension": ".py",
   "mimetype": "text/x-python",
   "name": "python",
   "nbconvert_exporter": "python",
   "pygments_lexer": "ipython3",
   "version": "3.6.9"
  }
 },
 "nbformat": 4,
 "nbformat_minor": 4
}
